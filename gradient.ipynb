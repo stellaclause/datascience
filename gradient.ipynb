{
  "cells": [
    {
      "metadata": {
        "trusted": true
      },
      "cell_type": "code",
      "source": "def df(x): return 4*x**3 + 6*x**2 + 4*x + 7\n\npre_x = 6\n\ncur_x = 6\n\nalpha = 0.01\n\niteration = 100000\n\nprecision = 0.001\n\nxs = []\n\nerrors = []\n\nfor x in range(iteration):\n    \n    cur_x = pre_x - alpha * df(pre_x)\n    \n    error = pre_x - cur_x\n    \n    xs.append(x)\n    \n    errors.append(abs(error))\n    \n    if abs(error) <= precision: break\n        \n    pre_x = cur_x\n        \nprint(\"The minimum is at:\", cur_x)",
      "execution_count": 39,
      "outputs": [
        {
          "output_type": "stream",
          "text": "The minimum is at: -1.566696915476957\n",
          "name": "stdout"
        }
      ]
    },
    {
      "metadata": {
        "trusted": true
      },
      "cell_type": "code",
      "source": "def df(x): return -3*x**2 - 4*x + 5\n\npre_x2 = 5\n\ncur_x2 = 5\n\nalpha = 0.01\n\niteration = 100000\n\nprecision = 0.001\n\nxs2 = []\n\nerrors2 = []\n\nfor x in range(iteration):\n    \n    cur_x2 = pre_x2 + alpha * df(pre_x2)\n    \n    error2 = pre_x2 - cur_x2\n    \n    xs2.append(x)\n    \n    errors2.append(abs(error2))\n    \n    if abs(error2) <= precision: break\n        \n    pre_x2 = cur_x2\n        \nprint(\"The maximum is at:\", cur_x2)",
      "execution_count": 40,
      "outputs": [
        {
          "output_type": "stream",
          "text": "The maximum is at: 0.7958539759859704\n",
          "name": "stdout"
        }
      ]
    },
    {
      "metadata": {
        "trusted": true
      },
      "cell_type": "code",
      "source": "import matplotlib.pyplot as plt\nplt.bar(xs, errors)",
      "execution_count": 41,
      "outputs": [
        {
          "output_type": "execute_result",
          "execution_count": 41,
          "data": {
            "text/plain": "<BarContainer object of 31 artists>"
          },
          "metadata": {}
        },
        {
          "output_type": "display_data",
          "data": {
            "image/png": "[encoded data removed]",
            "text/plain": "<Figure size 432x288 with 1 Axes>"
          },
          "metadata": {
            "needs_background": "light"
          }
        }
      ]
    },
    {
      "metadata": {
        "trusted": true
      },
      "cell_type": "code",
      "source": "plt.bar(xs2, errors2)",
      "execution_count": 42,
      "outputs": [
        {
          "output_type": "execute_result",
          "execution_count": 42,
          "data": {
            "text/plain": "<BarContainer object of 56 artists>"
          },
          "metadata": {}
        },
        {
          "output_type": "display_data",
          "data": {
            "image/png": "[encoded data removed]",
            "text/plain": "<Figure size 432x288 with 1 Axes>"
          },
          "metadata": {
            "needs_background": "light"
          }
        }
      ]
    },
    {
      "metadata": {
        "trusted": true
      },
      "cell_type": "code",
      "source": "",
      "execution_count": null,
      "outputs": []
    }
  ],
  "metadata": {
    "kernelspec": {
      "name": "python36",
      "display_name": "Python 3.6",
      "language": "python"
    },
    "language_info": {
      "mimetype": "text/x-python",
      "nbconvert_exporter": "python",
      "name": "python",
      "pygments_lexer": "ipython3",
      "version": "3.6.6",
      "file_extension": ".py",
      "codemirror_mode": {
        "version": 3,
        "name": "ipython"
      }
    }
  },
  "nbformat": 4,
  "nbformat_minor": 2
}