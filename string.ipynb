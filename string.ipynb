{
  "cells": [
    {
      "metadata": {
        "trusted": true
      },
      "cell_type": "code",
      "source": "first_part = \"\"\"\n<!DOCTYPE html>\n<html>\n  <head>\n    <title>Simple Map</title>\n    <meta name=\"viewport\" content=\"initial-scale=1.0\">\n    <meta charset=\"utf-8\">\n    <style>\n      /* Always set the map height explicitly to define the size of the div\n       * element that contains the map. */\n      #map {\n        height: 100%;\n      }\n      /* Optional: Makes the sample page fill the window. */\n      html, body {\n        height: 100%;\n        margin: 0;\n        padding: 0;\n      }\n      \n\"\"\"\n\nlast_part = \"\"\"\n\n}\n    </style>\n  </head>\n  <body>\n    <div id=\"map\"></div>\n    <script>\n      var map;\n      function initMap() {\n        map = new google.maps.Map(document.getElementById('map'), {\n          center: {lat: -34.397, lng: 150.644},\n          zoom: 8\n        });\n      }\n    </script>\n    <script src=\"https://maps.googleapis.com/maps/api/js?key=YOUR_API_KEY&callback=initMap\"\n    async defer></script>\n  </body>\n</html>\n\"\"\"",
      "execution_count": 2,
      "outputs": []
    },
    {
      "metadata": {
        "trusted": true
      },
      "cell_type": "code",
      "source": "first_part\n\n",
      "execution_count": 3,
      "outputs": [
        {
          "output_type": "execute_result",
          "execution_count": 3,
          "data": {
            "text/plain": "'\\n<!DOCTYPE html>\\n<html>\\n  <head>\\n    <title>Simple Map</title>\\n    <meta name=\"viewport\" content=\"initial-scale=1.0\">\\n    <meta charset=\"utf-8\">\\n    <style>\\n      /* Always set the map height explicitly to define the size of the div\\n       * element that contains the map. */\\n      #map {\\n        height: 100%;\\n      }\\n      /* Optional: Makes the sample page fill the window. */\\n      html, body {\\n        height: 100%;\\n        margin: 0;\\n        padding: 0;\\n      }\\n      \\n'"
          },
          "metadata": {}
        }
      ]
    },
    {
      "metadata": {
        "trusted": true
      },
      "cell_type": "code",
      "source": "last_part",
      "execution_count": 4,
      "outputs": [
        {
          "output_type": "execute_result",
          "execution_count": 4,
          "data": {
            "text/plain": "'\\n\\n}\\n    </style>\\n  </head>\\n  <body>\\n    <div id=\"map\"></div>\\n    <script>\\n      var map;\\n      function initMap() {\\n        map = new google.maps.Map(document.getElementById(\\'map\\'), {\\n          center: {lat: -34.397, lng: 150.644},\\n          zoom: 8\\n        });\\n      }\\n    </script>\\n    <script src=\"https://maps.googleapis.com/maps/api/js?key=YOUR_API_KEY&callback=initMap\"\\n    async defer></script>\\n  </body>\\n</html>\\n'"
          },
          "metadata": {}
        }
      ]
    },
    {
      "metadata": {
        "trusted": true
      },
      "cell_type": "code",
      "source": "whole = first_part + last_part\nwhole",
      "execution_count": 6,
      "outputs": [
        {
          "output_type": "execute_result",
          "execution_count": 6,
          "data": {
            "text/plain": "'\\n<!DOCTYPE html>\\n<html>\\n  <head>\\n    <title>Simple Map</title>\\n    <meta name=\"viewport\" content=\"initial-scale=1.0\">\\n    <meta charset=\"utf-8\">\\n    <style>\\n      /* Always set the map height explicitly to define the size of the div\\n       * element that contains the map. */\\n      #map {\\n        height: 100%;\\n      }\\n      /* Optional: Makes the sample page fill the window. */\\n      html, body {\\n        height: 100%;\\n        margin: 0;\\n        padding: 0;\\n      }\\n      \\n\\n\\n}\\n    </style>\\n  </head>\\n  <body>\\n    <div id=\"map\"></div>\\n    <script>\\n      var map;\\n      function initMap() {\\n        map = new google.maps.Map(document.getElementById(\\'map\\'), {\\n          center: {lat: -34.397, lng: 150.644},\\n          zoom: 8\\n        });\\n      }\\n    </script>\\n    <script src=\"https://maps.googleapis.com/maps/api/js?key=YOUR_API_KEY&callback=initMap\"\\n    async defer></script>\\n  </body>\\n</html>\\n'"
          },
          "metadata": {}
        }
      ]
    },
    {
      "metadata": {
        "trusted": true
      },
      "cell_type": "code",
      "source": "from IPython.display import HTML\ndisplay(HTML(whole))",
      "execution_count": 7,
      "outputs": [
        {
          "output_type": "display_data",
          "data": {
            "text/html": "\n<!DOCTYPE html>\n<html>\n  <head>\n    <title>Simple Map</title>\n    <meta name=\"viewport\" content=\"initial-scale=1.0\">\n    <meta charset=\"utf-8\">\n    <style>\n      /* Always set the map height explicitly to define the size of the div\n       * element that contains the map. */\n      #map {\n        height: 100%;\n      }\n      /* Optional: Makes the sample page fill the window. */\n      html, body {\n        height: 100%;\n        margin: 0;\n        padding: 0;\n      }\n      \n\n\n}\n    </style>\n  </head>\n  <body>\n    <div id=\"map\"></div>\n    <script>\n      var map;\n      function initMap() {\n        map = new google.maps.Map(document.getElementById('map'), {\n          center: {lat: -34.397, lng: 150.644},\n          zoom: 8\n        });\n      }\n    </script>\n    <script src=\"https://maps.googleapis.com/maps/api/js?key=YOUR_API_KEY&callback=initMap\"\n    async defer></script>\n  </body>\n</html>\n",
            "text/plain": "<IPython.core.display.HTML object>"
          },
          "metadata": {}
        }
      ]
    },
    {
      "metadata": {
        "trusted": true
      },
      "cell_type": "code",
      "source": "f = open(\"test.html\", \"w\")\n\nf.write(whole)\n\nf.close()",
      "execution_count": 8,
      "outputs": []
    },
    {
      "metadata": {
        "trusted": true
      },
      "cell_type": "code",
      "source": "",
      "execution_count": null,
      "outputs": []
    }
  ],
  "metadata": {
    "kernelspec": {
      "name": "python36",
      "display_name": "Python 3.6",
      "language": "python"
    },
    "language_info": {
      "mimetype": "text/x-python",
      "nbconvert_exporter": "python",
      "name": "python",
      "pygments_lexer": "ipython3",
      "version": "3.6.6",
      "file_extension": ".py",
      "codemirror_mode": {
        "version": 3,
        "name": "ipython"
      }
    }
  },
  "nbformat": 4,
  "nbformat_minor": 2
}