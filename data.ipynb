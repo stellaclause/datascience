{
  "cells": [
    {
      "metadata": {
        "trusted": true
      },
      "cell_type": "code",
      "source": "import random \n\nrandom.seed(123456)",
      "execution_count": 1,
      "outputs": []
    },
    {
      "metadata": {
        "trusted": true
      },
      "cell_type": "code",
      "source": "def distance(p1,p2):\n    return ((p1[0]-p2[0])**2 + (p1[1]-p2[1])**2)**0.5",
      "execution_count": 2,
      "outputs": []
    },
    {
      "metadata": {
        "trusted": true
      },
      "cell_type": "code",
      "source": "def get_mean(points):\n    np = len(points)\n    sump = [0,0]\n    for p in points:\n        sump[0] += p[0]\n        sump[1] += p[1]\n    sump[0] = sump[0]/np\n    sump[1] = sump[1]/np\n    return sump\n\ndef get_centroids(points, associated, kcls):\n    center_points = [[] for _ in range(kcls)]\n    for ip, p in enumerate(points):\n        center_points[associated[ip]].append(p)\n    centroids = []\n    for icls in range(kcls):\n        mean = get_mean(center_points[icls])\n        centroids.append(mean)\n    return centroids\n\ndef kmeans(points, kcls, max_iter=1000, min_shift_frac=0.01):\n    \n    npoints = len(points)\n    if npoints <= kcls**2: kcls = int(npoints**0.5)\n    \n    centers = random.sample(points, kcls)\n    associated = [0 for _ in points]\n    for iter in range(max_iter):\n        changed_fraction = associate(centers, points, associated)\n        if changed_fraction <= min_shift_frac:\n            print(\"changed_fraction({}) reached to min_shift_frac({})\".format(changed_fraction, min_shift_frac))\n            break\n        if iter == max_iter-1:\n            print(\"max_iter({}) reached.\".format(iter))\n    return associated\n\ndef generate_sample(ref_point, std, n):\n    points = []\n    for _ in range(n):\n        p = [random.gauss(ref_point[0], std[0]), random.gauss(ref_point[1], std[1])]\n        points.append(p)  \n    return points",
      "execution_count": 4,
      "outputs": []
    },
    {
      "metadata": {
        "trusted": true
      },
      "cell_type": "code",
      "source": "import matplotlib.pyplot as plt \n\nimport csv\n\nwith open('crash2.csv', 'r') as f:\n    reader = csv.reader(f)\n    data = list(reader)\n\nplt.scatter([x[0] for x in data], [x[1] for x in data], c=\"black\", marker=\"o\")\n\nplt.show()",
      "execution_count": 1,
      "outputs": [
        {
          "output_type": "stream",
          "text": "/home/nbuser/anaconda3_501/lib/python3.6/site-packages/matplotlib/font_manager.py:229: UserWarning: Matplotlib is building the font cache using fc-list. This may take a moment.\n  'Matplotlib is building the font cache using fc-list. '\n",
          "name": "stderr"
        }
      ]
    },
    {
      "metadata": {
        "trusted": true
      },
      "cell_type": "code",
      "source": "",
      "execution_count": null,
      "outputs": []
    },
    {
      "metadata": {
        "trusted": true
      },
      "cell_type": "code",
      "source": "",
      "execution_count": null,
      "outputs": []
    }
  ],
  "metadata": {
    "kernelspec": {
      "name": "python36",
      "display_name": "Python 3.6",
      "language": "python"
    },
    "language_info": {
      "mimetype": "text/x-python",
      "nbconvert_exporter": "python",
      "name": "python",
      "pygments_lexer": "ipython3",
      "version": "3.6.6",
      "file_extension": ".py",
      "codemirror_mode": {
        "version": 3,
        "name": "ipython"
      }
    }
  },
  "nbformat": 4,
  "nbformat_minor": 2
}