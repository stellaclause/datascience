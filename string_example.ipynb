{
  "cells": [
    {
      "metadata": {
        "trusted": true
      },
      "cell_type": "code",
      "source": "first_part = \"\"\"\n<!DOCTYPE html>\n<html>\n<head>\n<meta name=\"viewport\" content=\"initial-scale=1.0, width=device-width\" />\n<link rel=\"stylesheet\" type=\"text/css\" href=\"https://js.api.here.com/v3/3.0/mapsjs-ui.css?dp-version=1542186754\" />\n<script type=\"text/javascript\" src=\"https://js.api.here.com/v3/3.0/mapsjs-core.js\"></script>\n<script type=\"text/javascript\" src=\"https://js.api.here.com/v3/3.0/mapsjs-service.js\"></script>\n<script type=\"text/javascript\" src=\"https://js.api.here.com/v3/3.0/mapsjs-ui.js\"></script>\n<script type=\"text/javascript\" src=\"https://js.api.here.com/v3/3.0/mapsjs-mapevents.js\"></script>\n\n</head>\n<body>\n  <div id=\"map\" style=\"width: 100%; height: 400px; background: grey\" />\n  <script  type=\"text/javascript\" charset=\"UTF-8\" >\n    \n\n/**\n * Adds markers to the map highlighting the locations of the captials of\n * France, Italy, Germany, Spain and the United Kingdom.\n *\n * @param  {H.Map} map      A HERE Map instance within the application\n */\nfunction addMarkersToMap(map) {\n  var parisMarker = new H.map.Marker({lat:48.8567, lng:2.3508});\n  map.addObject(parisMarker);\n\n\"\"\"\n\nlast_part = \"\"\"\n\n}\n\n\n\n\n\n/**\n * Boilerplate map initialization code starts below:\n */\n\n//Step 1: initialize communication with the platform\nvar platform = new H.service.Platform({\n  app_id: 'devportal-demo-20180625',\n  app_code: '9v2BkviRwi9Ot26kp2IysQ',\n  useHTTPS: true\n});\nvar pixelRatio = window.devicePixelRatio || 1;\nvar defaultLayers = platform.createDefaultLayers({\n  tileSize: pixelRatio === 1 ? 256 : 512,\n  ppi: pixelRatio === 1 ? undefined : 320\n});\n\n//Step 2: initialize a map - this map is centered over Europe\nvar map = new H.Map(document.getElementById('map'),\n  defaultLayers.normal.map,{\n  center: {lat:50, lng:5},\n  zoom: 4,\n  pixelRatio: pixelRatio\n});\n\n//Step 3: make the map interactive\n// MapEvents enables the event system\n// Behavior implements default interactions for pan/zoom (also on mobile touch environments)\nvar behavior = new H.mapevents.Behavior(new H.mapevents.MapEvents(map));\n\n// Create the default UI components\nvar ui = H.ui.UI.createDefault(map, defaultLayers);\n\n// Now use the map as required...\naddMarkersToMap(map);\n  </script>\n</body>\n</html>\n\"\"\"",
      "execution_count": 10,
      "outputs": []
    },
    {
      "metadata": {
        "trusted": true
      },
      "cell_type": "code",
      "source": "first_part",
      "execution_count": 12,
      "outputs": [
        {
          "output_type": "execute_result",
          "execution_count": 12,
          "data": {
            "text/plain": "'\\n<!DOCTYPE html>\\n<html>\\n<head>\\n<meta name=\"viewport\" content=\"initial-scale=1.0, width=device-width\" />\\n<link rel=\"stylesheet\" type=\"text/css\" href=\"https://js.api.here.com/v3/3.0/mapsjs-ui.css?dp-version=1542186754\" />\\n<script type=\"text/javascript\" src=\"https://js.api.here.com/v3/3.0/mapsjs-core.js\"></script>\\n<script type=\"text/javascript\" src=\"https://js.api.here.com/v3/3.0/mapsjs-service.js\"></script>\\n<script type=\"text/javascript\" src=\"https://js.api.here.com/v3/3.0/mapsjs-ui.js\"></script>\\n<script type=\"text/javascript\" src=\"https://js.api.here.com/v3/3.0/mapsjs-mapevents.js\"></script>\\n\\n</head>\\n<body>\\n  <div id=\"map\" style=\"width: 100%; height: 400px; background: grey\" />\\n  <script  type=\"text/javascript\" charset=\"UTF-8\" >\\n    \\n\\n/**\\n * Adds markers to the map highlighting the locations of the captials of\\n * France, Italy, Germany, Spain and the United Kingdom.\\n *\\n * @param  {H.Map} map      A HERE Map instance within the application\\n */\\nfunction addMarkersToMap(map) {\\n  var parisMarker = new H.map.Marker({lat:48.8567, lng:2.3508});\\n  map.addObject(parisMarker);\\n\\n'"
          },
          "metadata": {}
        }
      ]
    },
    {
      "metadata": {
        "trusted": true
      },
      "cell_type": "code",
      "source": "last_part",
      "execution_count": 13,
      "outputs": [
        {
          "output_type": "execute_result",
          "execution_count": 13,
          "data": {
            "text/plain": "\"\\n\\n}\\n\\n\\n\\n\\n\\n/**\\n * Boilerplate map initialization code starts below:\\n */\\n\\n//Step 1: initialize communication with the platform\\nvar platform = new H.service.Platform({\\n  app_id: 'devportal-demo-20180625',\\n  app_code: '9v2BkviRwi9Ot26kp2IysQ',\\n  useHTTPS: true\\n});\\nvar pixelRatio = window.devicePixelRatio || 1;\\nvar defaultLayers = platform.createDefaultLayers({\\n  tileSize: pixelRatio === 1 ? 256 : 512,\\n  ppi: pixelRatio === 1 ? undefined : 320\\n});\\n\\n//Step 2: initialize a map - this map is centered over Europe\\nvar map = new H.Map(document.getElementById('map'),\\n  defaultLayers.normal.map,{\\n  center: {lat:50, lng:5},\\n  zoom: 4,\\n  pixelRatio: pixelRatio\\n});\\n\\n//Step 3: make the map interactive\\n// MapEvents enables the event system\\n// Behavior implements default interactions for pan/zoom (also on mobile touch environments)\\nvar behavior = new H.mapevents.Behavior(new H.mapevents.MapEvents(map));\\n\\n// Create the default UI components\\nvar ui = H.ui.UI.createDefault(map, defaultLayers);\\n\\n// Now use the map as required...\\naddMarkersToMap(map);\\n  </script>\\n</body>\\n</html>\\n\""
          },
          "metadata": {}
        }
      ]
    },
    {
      "metadata": {
        "trusted": true
      },
      "cell_type": "code",
      "source": "def construct_middle_part(points):\n    \"\"\"\n    input\n    \n    points: [(lat,lng), (lat,lng), ...]\n    \n    output\n    \n    string of\n        var parisMarker = new H.map.Marker({lat:48.8567, lng:2.3508});\n        map.addObject(parisMarker);\n  \n    \"\"\"\n    \n    output_str = \"\"\n    \n    for p in points:\n        output_str += \"\"\"\n            var parisMarker = new H.map.Marker({lat:%f, lng:%f});\n            map.addObject(parisMarker);\n        \"\"\" % (p[0], p[1])\n    \n    return output_str\n\n",
      "execution_count": 22,
      "outputs": []
    },
    {
      "metadata": {
        "trusted": true
      },
      "cell_type": "code",
      "source": "points = [(48.8567, 2.3508), (41.9, 12.5)]\n\nmiddle_part = construct_middle_part(points)\nmiddle_part",
      "execution_count": 23,
      "outputs": [
        {
          "output_type": "execute_result",
          "execution_count": 23,
          "data": {
            "text/plain": "'\\n            var parisMarker = new H.map.Marker({lat:48.856700, lng:2.350800});\\n            map.addObject(parisMarker);\\n        \\n            var parisMarker = new H.map.Marker({lat:41.900000, lng:12.500000});\\n            map.addObject(parisMarker);\\n        '"
          },
          "metadata": {}
        }
      ]
    },
    {
      "metadata": {
        "trusted": true
      },
      "cell_type": "code",
      "source": "whole = first_part + middle_part + last_part\nwhole",
      "execution_count": 24,
      "outputs": [
        {
          "output_type": "execute_result",
          "execution_count": 24,
          "data": {
            "text/plain": "'\\n<!DOCTYPE html>\\n<html>\\n<head>\\n<meta name=\"viewport\" content=\"initial-scale=1.0, width=device-width\" />\\n<link rel=\"stylesheet\" type=\"text/css\" href=\"https://js.api.here.com/v3/3.0/mapsjs-ui.css?dp-version=1542186754\" />\\n<script type=\"text/javascript\" src=\"https://js.api.here.com/v3/3.0/mapsjs-core.js\"></script>\\n<script type=\"text/javascript\" src=\"https://js.api.here.com/v3/3.0/mapsjs-service.js\"></script>\\n<script type=\"text/javascript\" src=\"https://js.api.here.com/v3/3.0/mapsjs-ui.js\"></script>\\n<script type=\"text/javascript\" src=\"https://js.api.here.com/v3/3.0/mapsjs-mapevents.js\"></script>\\n\\n</head>\\n<body>\\n  <div id=\"map\" style=\"width: 100%; height: 400px; background: grey\" />\\n  <script  type=\"text/javascript\" charset=\"UTF-8\" >\\n    \\n\\n/**\\n * Adds markers to the map highlighting the locations of the captials of\\n * France, Italy, Germany, Spain and the United Kingdom.\\n *\\n * @param  {H.Map} map      A HERE Map instance within the application\\n */\\nfunction addMarkersToMap(map) {\\n  var parisMarker = new H.map.Marker({lat:48.8567, lng:2.3508});\\n  map.addObject(parisMarker);\\n\\n\\n            var parisMarker = new H.map.Marker({lat:48.856700, lng:2.350800});\\n            map.addObject(parisMarker);\\n        \\n            var parisMarker = new H.map.Marker({lat:41.900000, lng:12.500000});\\n            map.addObject(parisMarker);\\n        \\n\\n}\\n\\n\\n\\n\\n\\n/**\\n * Boilerplate map initialization code starts below:\\n */\\n\\n//Step 1: initialize communication with the platform\\nvar platform = new H.service.Platform({\\n  app_id: \\'devportal-demo-20180625\\',\\n  app_code: \\'9v2BkviRwi9Ot26kp2IysQ\\',\\n  useHTTPS: true\\n});\\nvar pixelRatio = window.devicePixelRatio || 1;\\nvar defaultLayers = platform.createDefaultLayers({\\n  tileSize: pixelRatio === 1 ? 256 : 512,\\n  ppi: pixelRatio === 1 ? undefined : 320\\n});\\n\\n//Step 2: initialize a map - this map is centered over Europe\\nvar map = new H.Map(document.getElementById(\\'map\\'),\\n  defaultLayers.normal.map,{\\n  center: {lat:50, lng:5},\\n  zoom: 4,\\n  pixelRatio: pixelRatio\\n});\\n\\n//Step 3: make the map interactive\\n// MapEvents enables the event system\\n// Behavior implements default interactions for pan/zoom (also on mobile touch environments)\\nvar behavior = new H.mapevents.Behavior(new H.mapevents.MapEvents(map));\\n\\n// Create the default UI components\\nvar ui = H.ui.UI.createDefault(map, defaultLayers);\\n\\n// Now use the map as required...\\naddMarkersToMap(map);\\n  </script>\\n</body>\\n</html>\\n'"
          },
          "metadata": {}
        }
      ]
    },
    {
      "metadata": {
        "trusted": true
      },
      "cell_type": "code",
      "source": "from IPython.display import HTML\ndisplay(HTML(whole))",
      "execution_count": 25,
      "outputs": [
        {
          "output_type": "display_data",
          "data": {
            "text/html": "\n<!DOCTYPE html>\n<html>\n<head>\n<meta name=\"viewport\" content=\"initial-scale=1.0, width=device-width\" />\n<link rel=\"stylesheet\" type=\"text/css\" href=\"https://js.api.here.com/v3/3.0/mapsjs-ui.css?dp-version=1542186754\" />\n<script type=\"text/javascript\" src=\"https://js.api.here.com/v3/3.0/mapsjs-core.js\"></script>\n<script type=\"text/javascript\" src=\"https://js.api.here.com/v3/3.0/mapsjs-service.js\"></script>\n<script type=\"text/javascript\" src=\"https://js.api.here.com/v3/3.0/mapsjs-ui.js\"></script>\n<script type=\"text/javascript\" src=\"https://js.api.here.com/v3/3.0/mapsjs-mapevents.js\"></script>\n\n</head>\n<body>\n  <div id=\"map\" style=\"width: 100%; height: 400px; background: grey\" />\n  <script  type=\"text/javascript\" charset=\"UTF-8\" >\n    \n\n/**\n * Adds markers to the map highlighting the locations of the captials of\n * France, Italy, Germany, Spain and the United Kingdom.\n *\n * @param  {H.Map} map      A HERE Map instance within the application\n */\nfunction addMarkersToMap(map) {\n  var parisMarker = new H.map.Marker({lat:48.8567, lng:2.3508});\n  map.addObject(parisMarker);\n\n\n            var parisMarker = new H.map.Marker({lat:48.856700, lng:2.350800});\n            map.addObject(parisMarker);\n        \n            var parisMarker = new H.map.Marker({lat:41.900000, lng:12.500000});\n            map.addObject(parisMarker);\n        \n\n}\n\n\n\n\n\n/**\n * Boilerplate map initialization code starts below:\n */\n\n//Step 1: initialize communication with the platform\nvar platform = new H.service.Platform({\n  app_id: 'devportal-demo-20180625',\n  app_code: '9v2BkviRwi9Ot26kp2IysQ',\n  useHTTPS: true\n});\nvar pixelRatio = window.devicePixelRatio || 1;\nvar defaultLayers = platform.createDefaultLayers({\n  tileSize: pixelRatio === 1 ? 256 : 512,\n  ppi: pixelRatio === 1 ? undefined : 320\n});\n\n//Step 2: initialize a map - this map is centered over Europe\nvar map = new H.Map(document.getElementById('map'),\n  defaultLayers.normal.map,{\n  center: {lat:50, lng:5},\n  zoom: 4,\n  pixelRatio: pixelRatio\n});\n\n//Step 3: make the map interactive\n// MapEvents enables the event system\n// Behavior implements default interactions for pan/zoom (also on mobile touch environments)\nvar behavior = new H.mapevents.Behavior(new H.mapevents.MapEvents(map));\n\n// Create the default UI components\nvar ui = H.ui.UI.createDefault(map, defaultLayers);\n\n// Now use the map as required...\naddMarkersToMap(map);\n  </script>\n</body>\n</html>\n",
            "text/plain": "<IPython.core.display.HTML object>"
          },
          "metadata": {}
        }
      ]
    },
    {
      "metadata": {
        "trusted": true
      },
      "cell_type": "code",
      "source": "f = open(\"markers.html\", \"w\")\n\nf.write(whole)\n\nf.close()",
      "execution_count": 26,
      "outputs": []
    },
    {
      "metadata": {
        "trusted": true
      },
      "cell_type": "code",
      "source": "",
      "execution_count": null,
      "outputs": []
    }
  ],
  "metadata": {
    "kernelspec": {
      "name": "python36",
      "display_name": "Python 3.6",
      "language": "python"
    },
    "language_info": {
      "mimetype": "text/x-python",
      "nbconvert_exporter": "python",
      "name": "python",
      "pygments_lexer": "ipython3",
      "version": "3.6.6",
      "file_extension": ".py",
      "codemirror_mode": {
        "version": 3,
        "name": "ipython"
      }
    }
  },
  "nbformat": 4,
  "nbformat_minor": 2
}