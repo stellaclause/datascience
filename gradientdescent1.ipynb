{
  "cells": [
    {
      "metadata": {
        "trusted": true
      },
      "cell_type": "code",
      "source": "def df(x): return 2*x-2\n\npre_x = 5\n\ncur_x = 5\n\nalpha = 0.01\n\niteration = 10000\n\nprecision = 0.001\n\nxs = []\n\nerrors = []\n\nfor x in range(iteration):\n    \n    cur_x = pre_x - alpha * df(pre_x)\n    \n    error = pre_x - cur_x\n    \n    xs.append(x)\n    \n    errors.append(abs(error))\n    \n    if abs(error) <= precision: break\n        \n    pre_x = cur_x\n        \nprint(\"The minimun is at:\", cur_x)\n",
      "execution_count": 40,
      "outputs": [
        {
          "output_type": "stream",
          "text": "The minimun is at: 1.0489040123314564\n",
          "name": "stdout"
        }
      ]
    },
    {
      "metadata": {
        "trusted": true
      },
      "cell_type": "code",
      "source": "import matplotlib.pyplot as plt\n\nplt.bar(xs, errors)\n    ",
      "execution_count": 49,
      "outputs": [
        {
          "output_type": "execute_result",
          "execution_count": 49,
          "data": {
            "text/plain": "<BarContainer object of 218 artists>"
          },
          "metadata": {}
        },
        {
          "output_type": "display_data",
          "data": {
            "image/png": "[encoded data removed]",
            "text/plain": "<Figure size 432x288 with 1 Axes>"
          },
          "metadata": {
            "needs_background": "light"
          }
        }
      ]
    },
    {
      "metadata": {
        "trusted": true
      },
      "cell_type": "code",
      "source": "",
      "execution_count": null,
      "outputs": []
    }
  ],
  "metadata": {
    "kernelspec": {
      "name": "python36",
      "display_name": "Python 3.6",
      "language": "python"
    },
    "language_info": {
      "mimetype": "text/x-python",
      "nbconvert_exporter": "python",
      "name": "python",
      "pygments_lexer": "ipython3",
      "version": "3.6.6",
      "file_extension": ".py",
      "codemirror_mode": {
        "version": 3,
        "name": "ipython"
      }
    }
  },
  "nbformat": 4,
  "nbformat_minor": 2
}